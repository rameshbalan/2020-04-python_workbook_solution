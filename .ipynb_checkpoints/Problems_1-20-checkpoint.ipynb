{
 "cells": [
  {
   "cell_type": "markdown",
   "metadata": {},
   "source": [
    "Exercise 1: Mailing Address\n",
    "\n",
    "Create a program that displays your name and complete mailing address formatted in\n",
    "the manner that you would usually see it on the outside of an envelope. Your program\n",
    "does not need to read any input from the user."
   ]
  },
  {
   "cell_type": "code",
   "execution_count": 7,
   "metadata": {
    "scrolled": true
   },
   "outputs": [
    {
     "name": "stdout",
     "output_type": "stream",
     "text": [
      "Rohith, \n",
      "57,11 th street, \n",
      "Rahmath Nagar, \n",
      "Palayamkottai, \n",
      "Tirunelveli- 627011.\n"
     ]
    }
   ],
   "source": [
    "print(\"Rohith, \\n57,11 th street, \\nRahmath Nagar, \\nPalayamkottai, \\nTirunelveli- 627011.\")"
   ]
  },
  {
   "cell_type": "markdown",
   "metadata": {},
   "source": [
    "Exercise 2: Hello\n",
    "\n",
    "Write a program that asks the user to enter his or her name. The program should\n",
    "respond with a message that says hello to the user, using his or her name."
   ]
  },
  {
   "cell_type": "code",
   "execution_count": 6,
   "metadata": {},
   "outputs": [
    {
     "name": "stdout",
     "output_type": "stream",
     "text": [
      "Rohith\n",
      "Hello! Rohith\n"
     ]
    }
   ],
   "source": [
    "a=input()\n",
    "print(\"Hello! \" + a)\n"
   ]
  },
  {
   "cell_type": "markdown",
   "metadata": {},
   "source": [
    "Exercise 3: Area of a Room\n",
    "\n",
    "Write a program that asks the user to enter the width and length of a room. Once\n",
    "the values have been read, your program should compute and display the area of the\n",
    "room. The length and the width will be entered as floating point numbers. Include\n",
    "units in your prompt and output message; either feet or meters, depending on which\n",
    "unit you are more comfortable working with."
   ]
  },
  {
   "cell_type": "code",
   "execution_count": 10,
   "metadata": {},
   "outputs": [
    {
     "name": "stdout",
     "output_type": "stream",
     "text": [
      "43\n",
      "43\n",
      "1849.0 meters\n"
     ]
    }
   ],
   "source": [
    "length=float(input())\n",
    "width=float(input())\n",
    "area=length*width\n",
    "print(\"{} meters\".format(area))\n"
   ]
  },
  {
   "cell_type": "markdown",
   "metadata": {},
   "source": [
    "Exercise 4: Area of a Field\n",
    "\n",
    "Create a program that reads the length and width of a farmer’s field from the user in\n",
    "feet. Display the area of the field in acres.\n",
    "Hint: There are 43,560 square feet in an acre."
   ]
  },
  {
   "cell_type": "code",
   "execution_count": 33,
   "metadata": {},
   "outputs": [
    {
     "name": "stdout",
     "output_type": "stream",
     "text": [
      "Type of field in lower case square\n",
      "43\n",
      "There are 1849.0 square feet in an acre\n"
     ]
    }
   ],
   "source": [
    "import string\n",
    "a=str(input(\"Type of field in lower case \"))\n",
    "a.lower()\n",
    "if(a==\"rectangle\"):\n",
    "    l=float(input())\n",
    "    w=float(input())\n",
    "    a=l*w\n",
    "    print(\"There are {} square feet in an acre\".format(a))\n",
    "elif(a==\"square\"):\n",
    "    l=float(input())\n",
    "    a=l*l\n",
    "    print(\"There are {} square feet in an acre\".format(a))\n",
    "if(a==\"ellipse\"):\n",
    "    r1=float(input())\n",
    "    r2=float(input())\n",
    "    a=r1*r2\n",
    "    print(\"There are {} square feet in an acre\".format(a))\n",
    "elif(a==\"circle\"):\n",
    "    r=float(input())\n",
    "    a=r*r\n",
    "    print(\"There are {} square feet in an acre\".format(a))\n",
    "else:\n",
    "    print(\"Invalid\")"
   ]
  },
  {
   "cell_type": "markdown",
   "metadata": {},
   "source": [
    "Exercise 5: Bottle Deposits\n",
    "\n",
    "In many jurisdictions a small deposit is added to drink containers to encourage people\n",
    "to recycle them. In one particular jurisdiction, drink containers holding one liter or\n",
    "less have a $0.10 deposit, and drink containers holding more than one liter have a\n",
    "$0.25 deposit.\n",
    "Write a program that reads the number of containers of each size from the user.\n",
    "Your program should continue by computing and displaying the refund that will be\n",
    "received for returning those containers. Format the output so that it includes a dollar\n",
    "sign and always displays exactly two decimal places."
   ]
  },
  {
   "cell_type": "code",
   "execution_count": 28,
   "metadata": {},
   "outputs": [
    {
     "name": "stdout",
     "output_type": "stream",
     "text": [
      "Enter the number of 1 litre containers 43\n",
      "Number of container more than 1 litre 5\n",
      "$ 4.3\n",
      "$ 1.25\n",
      "5.55\n"
     ]
    }
   ],
   "source": [
    "a=float(input(\"Enter the number of 1 litre containers \"))\n",
    "b=float(input(\"Number of container more than 1 litre \"))\n",
    "dep=a*0.10\n",
    "print(\"$ {}\".format(dep))\n",
    "de=b*0.25\n",
    "print(\"$ {}\".format(de))\n",
    "fin = dep+de\n",
    "print(round(fin,2))"
   ]
  },
  {
   "cell_type": "markdown",
   "metadata": {},
   "source": [
    "Exercise 6: Tax and Tip\n",
    "\n",
    "The program that you create for this exercise will begin by reading the cost of a meal\n",
    "ordered at a restaurant from the user. Then your program will compute the tax and\n",
    "tip for the meal. Use your local tax rate when computing the amount of tax owing.\n",
    "Compute the tip as 18 percent of the meal amount (without the tax). The output from\n",
    "your program should include the tax amount, the tip amount, and the grand total for\n",
    "the meal including both the tax and the tip. Format the output so that all of the values\n",
    "are displayed using two decimal places."
   ]
  },
  {
   "cell_type": "code",
   "execution_count": 10,
   "metadata": {},
   "outputs": [
    {
     "name": "stdout",
     "output_type": "stream",
     "text": [
      "Type of meal gfb\n",
      "Cost of meal 0\n",
      "tips0\n",
      "0.0\n"
     ]
    }
   ],
   "source": [
    "a=input(\"Type of meal \")\n",
    "b=float(input(\"Cost of meal \"))\n",
    "tip=float(input(\"tips\"))\n",
    "amt=(0.18*b)+tip\n",
    "print(amt)"
   ]
  },
  {
   "cell_type": "markdown",
   "metadata": {},
   "source": [
    "Exercise 7: Sum of the First n Positive Integers\n",
    "\n",
    "Write a program that reads a positive integer, n, from the user and then displays the\n",
    "sum of all of the integers from 1 to n. The sum of the first n positive integers can be\n",
    "computed using the formula:\n",
    "\n",
    "sum = (n)/(n + 1)"
   ]
  },
  {
   "cell_type": "code",
   "execution_count": 12,
   "metadata": {},
   "outputs": [
    {
     "name": "stdout",
     "output_type": "stream",
     "text": [
      "Enter a positive integer: 5\n",
      "The sum of the first 5 positive integers : 15.0\n"
     ]
    }
   ],
   "source": [
    "n = int(input(\"Enter a positive integer: \"))\n",
    "total = n * (n+1) / 2\n",
    "print(\"The sum of the first\",n,\"positive integers :\",total)"
   ]
  },
  {
   "cell_type": "markdown",
   "metadata": {},
   "source": [
    "Exercise 8:Widgets and Gizmos\n",
    "\n",
    "An online retailer sells two products: widgets and gizmos. Each widget weighs 75\n",
    "grams. Each gizmo weighs 112 grams. Write a program that reads the number of\n",
    "widgets and the number of gizmos in an order from the user. Then your program\n",
    "should compute and display the total weight of the order."
   ]
  },
  {
   "cell_type": "code",
   "execution_count": 14,
   "metadata": {},
   "outputs": [
    {
     "name": "stdout",
     "output_type": "stream",
     "text": [
      "number of widgets 6\n",
      "Number of gizmos 4\n",
      "898\n"
     ]
    }
   ],
   "source": [
    "a=int(input(\"number of widgets \"))\n",
    "b=int(input(\"Number of gizmos \"))\n",
    "a=a*75\n",
    "b=b*112\n",
    "print(a+b)"
   ]
  },
  {
   "cell_type": "markdown",
   "metadata": {},
   "source": [
    "Exercise 9: Compound Interest\n",
    "\n",
    "Pretend that you have just opened a new savings account that earns 4 percent interest\n",
    "per year. The interest that you earn is paid at the end of the year, and is added\n",
    "to the balance of the savings account. Write a program that begins by reading the\n",
    "amount of money deposited into the account from the user. Then your program should\n",
    "compute and display the amount in the savings account after 1, 2, and 3 years. Display\n",
    "each amount so that it is rounded to 2 decimal places."
   ]
  },
  {
   "cell_type": "code",
   "execution_count": 17,
   "metadata": {},
   "outputs": [
    {
     "name": "stdout",
     "output_type": "stream",
     "text": [
      "Amount to be deposited 10000\n",
      "For first year 10400.0\n",
      "For second year 10816.0\n",
      "For third year 11248.64\n"
     ]
    }
   ],
   "source": [
    "a=int(input(\"Amount to be deposited \"))\n",
    "b=(0.04*a)+a\n",
    "print(\"For first year {}\".format(b))\n",
    "c=(0.04*b)+b\n",
    "print(\"For second year {}\".format(c))\n",
    "d=(0.04*c)+c\n",
    "print(\"For third year {}\".format(d))"
   ]
  },
  {
   "cell_type": "markdown",
   "metadata": {},
   "source": [
    "Exercise 10: Arithmetic\n",
    "\n",
    "(Solved—20 Lines)\n",
    "Create a program that reads two integers, a and b, from the user. Your program should\n",
    "compute and display:\n",
    "• The sum of a and b\n",
    "• The difference when b is subtracted from a\n",
    "• The product of a and b\n",
    "• The quotient when a is divided by b\n",
    "• The remainder when a is divided by b\n",
    "• The result of log10 a\n",
    "• The result of ab\n",
    "\n",
    "Hint: You will probably find the log10 function in the math module helpful\n",
    "for computing the second last item in the list."
   ]
  },
  {
   "cell_type": "code",
   "execution_count": 27,
   "metadata": {},
   "outputs": [
    {
     "name": "stdout",
     "output_type": "stream",
     "text": [
      "a : 4\n",
      "b : 5\n",
      "Sum 9\n",
      "Subtract -1\n",
      "Multiply 20\n",
      "Quotient 0.8\n",
      "Remainder 4\n",
      "1.3862943611198906\n"
     ]
    }
   ],
   "source": [
    "import math\n",
    "a=int(input(\"a : \"))\n",
    "b=int(input(\"b : \"))\n",
    "c=a+b\n",
    "d=a-b\n",
    "e=a*b\n",
    "f=a/b\n",
    "g=a%b\n",
    "print(\"Sum {}\".format(c))\n",
    "print(\"Subtract {}\".format(d))\n",
    "print(\"Multiply {}\".format(e))\n",
    "print(\"Quotient {}\".format(f))\n",
    "print(\"Remainder {}\".format(g))\n",
    "print(math.log(a))"
   ]
  },
  {
   "cell_type": "markdown",
   "metadata": {},
   "source": [
    "Exercise 11: Fuel Efficiency\n",
    "\n",
    "In the United States, fuel efficiency for vehicles is normally expressed in miles-per-\n",
    "gallon (MPG). In Canada, fuel efficiency is normally expressed in liters-per-hundred\n",
    "\n",
    "kilometers (L/100 km). Use your research skills to determine how to convert from\n",
    "MPG to L/100 km. Then create a program that reads a value from the user in American\n",
    "units and displays the equivalent fuel efficiency in Canadian units."
   ]
  },
  {
   "cell_type": "code",
   "execution_count": 30,
   "metadata": {},
   "outputs": [
    {
     "name": "stdout",
     "output_type": "stream",
     "text": [
      "distance 43\n",
      "mpg 43\n"
     ]
    },
    {
     "data": {
      "text/plain": [
       "2.352145833333333"
      ]
     },
     "execution_count": 30,
     "metadata": {},
     "output_type": "execute_result"
    }
   ],
   "source": [
    "def convert_mile(mpg): \n",
    "    return (100 * 3.785411784) / (mpg * 1.609344)\n",
    "def conversion(distance,mpg):\n",
    "    return (convert_mileage(mpg) / 100) * distance\n",
    "distance=int(input(\"distance \"))\n",
    "mpg=int(input(\"mpg \"))\n",
    "convert_mile(mpg)\n",
    "conversion(distance,mpg)"
   ]
  },
  {
   "cell_type": "markdown",
   "metadata": {},
   "source": [
    "Exercise 12: Distance Between Two Points on Earth\n",
    "\n",
    "The surface of the Earth is curved, and the distance between degrees of longitude\n",
    "varies with latitude. As a result, finding the distance between two points on the surface\n",
    "of the Earth is more complicated than simply using the Pythagorean theorem.\n",
    "Let (t1, g1) and (t2, g2) be the latitude and longitude of two points on the Earth’s\n",
    "surface. The distance between these points, following the surface of the Earth, in\n",
    "kilometers is:\n",
    "distance = 6371.01 × arccos(sin(t1) × sin(t2) + cos(t1) × cos(t2) × cos(g1 − g2))\n",
    "The value 6371.01 in the previous equation wasn’t selected at random. It is\n",
    "the average radius of the Earth in kilometers.\n",
    "Create a program that allows the user to enter the latitude and longitude of two\n",
    "points on the Earth in degrees. Your program should display the distance between\n",
    "the points, following the surface of the earth, in kilometers.\n",
    "\n",
    "\n",
    "Exercise 12: Distance Between Two Points on Earth 7\n",
    "\n",
    "Hint: Python’s trigonometric functions operate in radians. As a result, you will\n",
    "need to convert the user’s input from degrees to radians before computing the\n",
    "distance with the formula discussed previously. The math module contains a\n",
    "function named radians which converts from degrees to radians."
   ]
  },
  {
   "cell_type": "code",
   "execution_count": 19,
   "metadata": {},
   "outputs": [
    {
     "name": "stdout",
     "output_type": "stream",
     "text": [
      "t1 : 7\n",
      "t2 : 2\n",
      "g1 : 7\n",
      "t2 : 3\n",
      "6.4031242374328485\n"
     ]
    }
   ],
   "source": [
    "import math \n",
    "def distance(t1 , g1 , t2 , g2): \n",
    "    return math.sqrt(math.pow(t2 - t1, 2) + math.pow(g2 - g1, 2) * 1.0) \n",
    "    distance = 6371.01 * arccos(sin(t1) * sin(t2) + cos(t1) * cos(t2) * cos(g1 - g2))\n",
    "t1=float(input(\"t1 : \"))\n",
    "t2=float(input(\"t2 : \"))\n",
    "g1=float(input(\"g1 : \"))\n",
    "g2=float(input(\"t2 : \"))\n",
    "print(distance(t1 , g1 , t2 , g2)) \n",
    "  "
   ]
  },
  {
   "cell_type": "markdown",
   "metadata": {},
   "source": [
    "Exercise 13: Making Change\n",
    "\n",
    "Consider the software that runs on a self-checkout machine. One task that it must be\n",
    "able to perform is to determine how much change to provide when the shopper pays\n",
    "for a purchase with cash.\n",
    "Write a program that begins by reading a number of cents from the user as an\n",
    "integer. Then your program should compute and display the denominations of the\n",
    "coins that should be used to give that amount of change to the shopper. The change\n",
    "should be given using as few coins as possible. Assume that the machine is loaded\n",
    "with pennies, nickels, dimes, quarters, loonies and toonies.\n",
    "A one dollar coin was introduced in Canada in 1987. It is referred to as a\n",
    "loonie because one side of the coin has a loon (a type of bird) on it. The two\n",
    "dollar coin, referred to as a toonie, was introduced 9 years later. It’s name is\n",
    "derived from the combination of the number two and the name of the loonie."
   ]
  },
  {
   "cell_type": "code",
   "execution_count": 26,
   "metadata": {},
   "outputs": [
    {
     "name": "stdout",
     "output_type": "stream",
     "text": [
      "Bill amount5\n",
      "Amount paid4\n",
      "pennies  - 39\n",
      "nickels  - 34\n",
      "dimes    - 49\n",
      "quarters - 48\n",
      "loonies  - 84\n",
      "toonies  - 49\n",
      "Additional to be paid is 1.0\n"
     ]
    }
   ],
   "source": [
    "a=float(input(\"Bill amount\"))\n",
    "b=float(input(\"Amount paid\"))\n",
    "print(\"pennies  - 39\\nnickels  - 34\\ndimes    - 49\\nquarters - 48\\nloonies  - 84\\ntoonies  - 49\")\n",
    "if(a<b):\n",
    "    c=b-a\n",
    "    print(\"The balance amount is {}\".format(c))\n",
    "elif(b<a):\n",
    "    c=a-b\n",
    "    print(\"Additional to be paid is {}\".format(c))"
   ]
  },
  {
   "cell_type": "markdown",
   "metadata": {},
   "source": [
    "Exercise 14: Height Units\n",
    "\n",
    "Many people think about their height in feet and inches, even in some countries that\n",
    "primarily use the metric system. Write a program that reads a number of feet from\n",
    "the user, followed by a number of inches. Once these values are read, your program\n",
    "should compute and display the equivalent number of centimeters.\n",
    "Hint: One foot is 12 inches. One inch is 2.54 centimeters."
   ]
  },
  {
   "cell_type": "code",
   "execution_count": 47,
   "metadata": {},
   "outputs": [
    {
     "name": "stdout",
     "output_type": "stream",
     "text": [
      "height in feet 54\n",
      "height in inches 54\n",
      "648 feet to cm\n",
      "137.16 inch to cm\n"
     ]
    }
   ],
   "source": [
    "def Conversion(f_c): \n",
    "    ff_c = 12 * f_c \n",
    "    print(\"{} feet to cm\".format(ff_c))\n",
    "def Convert(i_c):\n",
    "    ii_c = 2.54 * i_c\n",
    "    print(\"{} inch to cm\".format(ii_c))\n",
    "f_c = int(input(\"height in feet \"))\n",
    "i_c = int(input(\"height in inches \"))\n",
    "Conversion(f_c)\n",
    "Convert(i_c)"
   ]
  },
  {
   "cell_type": "markdown",
   "metadata": {},
   "source": [
    "Exercise 15: Distance Units\n",
    "\n",
    "\n",
    "In this exercise, you will create a program that begins by reading a measurement\n",
    "in feet from the user. Then your program should display the equivalent distance in\n",
    "inches, yards and miles. Use the Internet to look up the necessary conversion factors\n",
    "if you don’t have them memorized."
   ]
  },
  {
   "cell_type": "code",
   "execution_count": 46,
   "metadata": {},
   "outputs": [
    {
     "name": "stdout",
     "output_type": "stream",
     "text": [
      "Input distance in feet: 54\n",
      "The distance in inches is 648 inches.\n",
      "The distance in yards is 18.00 yards.\n",
      "The distance in miles is 0.01 miles.\n"
     ]
    }
   ],
   "source": [
    "d_ft = int(input(\"Input distance in feet: \"))\n",
    "d_inches = d_ft * 12\n",
    "d_yards = d_ft / 3.0\n",
    "d_miles = d_ft / 5280.0\n",
    "print(\"The distance in inches is %i inches.\" % d_inches)\n",
    "print(\"The distance in yards is %.2f yards.\" % d_yards)\n",
    "print(\"The distance in miles is %.2f miles.\" % d_miles)"
   ]
  },
  {
   "cell_type": "markdown",
   "metadata": {},
   "source": [
    "Exercise 16: Area and Volume\n",
    "\n",
    "Write a program that begins by reading a radius, r, from the user. The program will\n",
    "continue by computing and displaying the area of a circle with radius r and the\n",
    "volume of a sphere with radius r. Use the pi constant in the math module in your\n",
    "calculations.\n",
    "Hint: The area of a circle is computed using the formula area = πr 2. The\n",
    "volume of a sphere is computed using the formula volume = 4/3(π(r^3))."
   ]
  },
  {
   "cell_type": "code",
   "execution_count": 53,
   "metadata": {},
   "outputs": [
    {
     "name": "stdout",
     "output_type": "stream",
     "text": [
      "radius 1\n",
      "Volume Of Sphere :  4.1887902047863905\n",
      "Surface Area Of Sphere :  12.566370614359172\n"
     ]
    }
   ],
   "source": [
    "import math \n",
    "pi = math.pi \n",
    "def volume(r): \n",
    "    vol = (4 / 3) * pi * r * r * r \n",
    "    return vol \n",
    "def surfacearea(r): \n",
    "    sur_ar = 4 * pi * r * r \n",
    "    return sur_ar \n",
    "radius = float(input(\"radius \")) \n",
    "print( \"Volume Of Sphere : \", volume(radius) ) \n",
    "print( \"Area Of Sphere : \", surfacearea(radius) ) "
   ]
  },
  {
   "cell_type": "markdown",
   "metadata": {},
   "source": [
    "Exercise 17: Heat Capacity\n",
    "\n",
    "The amount of energy required to increase the temperature of one gram of a material by one degree Celsius is the material’s specific heat capacity, C. The total amount\n",
    "of energy required to raise m grams of a material by ΔT degrees Celsius can be\n",
    "computed using the formula:\n",
    "\n",
    "q = mCΔT.\n",
    "\n",
    "Write a program that reads the mass of some water and the temperature change from the user. Your program should display the total amount of energy that must be\n",
    "added or removed to achieve the desired temperature change.\n",
    "Hint: The specific heat capacity of water is 4.186 Jg◦C. Because water has a den-sity of 1.0 gram per millilitre, you can use grams and millilitres interchangeably in this exercise.\n",
    "\n",
    "Extend your program so that it also computes the cost of heating the water. Elec-\n",
    "tricity is normally billed using units of kilowatt hours rather than Joules. In this\n",
    "\n",
    "exercise, you should assume that electricity costs 8.9 cents per kilowatt-hour. Use your program to compute the cost of boiling water for a cup of coffee.\n",
    "\n",
    "\n",
    "Exercise 17: Heat Capacity 9\n",
    "\n",
    "Hint: You will need to look up the factor for converting between Joules and kilowatt hours to complete the last part of this exercise."
   ]
  },
  {
   "cell_type": "code",
   "execution_count": 4,
   "metadata": {},
   "outputs": [
    {
     "name": "stdout",
     "output_type": "stream",
     "text": [
      "Enter amount of water in milliliters: 1.0\n",
      "Enter amount of temperature increase (degrees Celsius): 4.186\n",
      "Enter electricity cost per unit: 8.9\n",
      "Amount of energy needed  17.52 Joules, which will cost 0.0\n"
     ]
    }
   ],
   "source": [
    "heat= 4.186\n",
    "j_k = 2.777e-7  \n",
    "volume   = float(input(\"Enter amount of water in milliliters: \"))\n",
    "temp     = float(input(\"Enter amount of temperature increase (degrees Celsius): \"))\n",
    "price    =  float(input(\"Enter electricity cost per unit: \"))\n",
    "energy  = volume * temp * heat\n",
    "kwh     = energy * j_k\n",
    "cost    = kwh * price \n",
    "print(\"Amount of energy needed \",round(energy,2),\"Joules, which will cost\", round(cost,2))"
   ]
  },
  {
   "cell_type": "markdown",
   "metadata": {},
   "source": [
    "Exercise 18:Volume of a Cylinder\n",
    "\n",
    "The volume of a cylinder can be computed by multiplying the area of its circular base by its height. Write a program that reads the radius of the cylinder, along with its height, from the user and computes its volume. Display the result rounded to one decimal place."
   ]
  },
  {
   "cell_type": "code",
   "execution_count": 7,
   "metadata": {},
   "outputs": [
    {
     "name": "stdout",
     "output_type": "stream",
     "text": [
      "Height of cylinder: 56\n",
      "Radius of cylinder: 43\n",
      "Volume is:  325424.0\n"
     ]
    }
   ],
   "source": [
    "pi=22/7\n",
    "height = float(input('Height of cylinder: '))\n",
    "radian = float(input('Radius of cylinder: '))\n",
    "volume = pi * radian * radian * height\n",
    "print(\"Volume is: \", volume)"
   ]
  },
  {
   "cell_type": "code",
   "execution_count": null,
   "metadata": {},
   "outputs": [],
   "source": [
    "Exercise 19: Free Fall\n",
    "\n",
    "Create a program that determines how quickly an object is traveling when it hits the ground. The user will enter the height from which the object is dropped in meters (m).\n",
    "Because the object is dropped its initial speed is 0 m/s. Assume that the acceleration due to gravity is 9.8 m/s2. You can use the formula vf = √v2 i + 2ad to compute the\n",
    "final speed, vf , when the initial speed, vi , acceleration, a, and distance, d, are known."
   ]
  },
  {
   "cell_type": "code",
   "execution_count": 16,
   "metadata": {},
   "outputs": [
    {
     "name": "stdout",
     "output_type": "stream",
     "text": [
      "Height in meters 0\n",
      "Height - 0.0 meters\n",
      "Acceleration - 9.8 m/s2\n",
      "Initial speed - 0 m/s\n",
      "0.0\n"
     ]
    }
   ],
   "source": [
    "import math\n",
    "a=float(input(\"Height in meters \"))\n",
    "print(\"Height - {} meters\\nAcceleration - 9.8 m/s2\\nInitial speed - 0 m/s\".format(a))\n",
    "g=9.8\n",
    "vi=0\n",
    "vf=math.sqrt((vi*vi)+(2*g*a))\n",
    "print(vf)"
   ]
  },
  {
   "cell_type": "markdown",
   "metadata": {},
   "source": [
    "Exercise 20: Ideal Gas Law\n",
    "\n",
    "The ideal gas law is a mathematical approximation of the behavior of gasses as pressure, volume and temperature change. It is usually stated as:\n",
    "\n",
    "PV = nRT\n",
    "\n",
    "where P is the pressure in Pascals, V is the volume in liters, n is the amount of substance in moles, R is the ideal gas constant, equal to 8.314 J/mol K , and T is the temperature in degrees Kelvin.Write a program that computes the amount of gas in moles when the user supplies the pressure, volume and temperature. Test your program by determining the number of moles of gas in a SCUBA tank. A typical SCUBA tank holds 12 liters of gas at a pressure of 20,000,000 Pascals (approximately 3,000 PSI). Room temperature is approximately 20 degrees Celsius or 68 degrees Fahrenheit.\n",
    "\n",
    "Hint: A temperature is converted from Celsius to Kelvin by adding 273.15 to it. To convert a temperature from Fahrenheit to Kelvin, deduct 32 from it,multiply it by 5/9 and then add 273.15 to it."
   ]
  },
  {
   "cell_type": "code",
   "execution_count": 17,
   "metadata": {},
   "outputs": [
    {
     "name": "stdout",
     "output_type": "stream",
     "text": [
      "Pressure is Pascals: 45\n",
      "Volume in litres: 43\n",
      "Temparature is Celsius: 34\n",
      "426.01111111111106\n"
     ]
    }
   ],
   "source": [
    "p=int(input(\"Pressure is Pascals: \"))\n",
    "v=int(input(\"Volume in litres: \"))\n",
    "t=int(input(\"Temparature is Celsius: \"))\n",
    "t=t+273.15\n",
    "fin=(t-32)*(5/9)+(273.15)\n",
    "print(fin)"
   ]
  },
  {
   "cell_type": "markdown",
   "metadata": {},
   "source": [
    "Exercise 21: Area of a Triangle\n",
    "\n",
    "The area of a triangle can be computed using the following formula, where b is thelength of the base of the triangle, and h is its height:\n",
    "area = (b × h)/2\n",
    " \n",
    "Write a program that allows the user to enter values for b and h. The program\n",
    "should then compute and display the area of a triangle with base length b and height h."
   ]
  },
  {
   "cell_type": "code",
   "execution_count": 18,
   "metadata": {},
   "outputs": [
    {
     "name": "stdout",
     "output_type": "stream",
     "text": [
      "Base : 5\n",
      "Height : 3\n",
      "7.5\n"
     ]
    }
   ],
   "source": [
    "b=int(input(\"Base : \"))\n",
    "h=int(input(\"Height : \"))\n",
    "area=(b*h)/2\n",
    "print(area)"
   ]
  },
  {
   "cell_type": "markdown",
   "metadata": {},
   "source": [
    "Exercise 22: Area of a Triangle (Again)\n",
    "\n",
    "In the previous exercise you created a program that computed the area of a triangle when the length of its base and its height were known. It is also possible to compute the area of a triangle when the lengths of all three sides are known. Let s1, s2 and s3 be the lengths of the sides. Let s = (s1 + s2 + s3)/2. Then the area of the triangle can be calculated using the following formula:\n",
    "\n",
    "area = √s × (s − s1) × (s − s2) × (s − s3)\n",
    "\n",
    "Develop a program that reads the lengths of the sides of a triangle from the user and displays its area."
   ]
  },
  {
   "cell_type": "code",
   "execution_count": 21,
   "metadata": {},
   "outputs": [
    {
     "name": "stdout",
     "output_type": "stream",
     "text": [
      "s1 5\n",
      "s2 3\n",
      "s3 2\n",
      "Area 5.0\n"
     ]
    }
   ],
   "source": [
    "s1=int(input(\"s1 \"))\n",
    "s2=int(input(\"s2 \"))\n",
    "s3=int(input(\"s3 \"))\n",
    "s = (s1 + s2 + s3)/2\n",
    "print(\"Area {}\".format(s))"
   ]
  },
  {
   "cell_type": "markdown",
   "metadata": {},
   "source": [
    "Exercise 23: Area of a Regular Polygon\n",
    "\n",
    "A polygon is regular if its sides are all the same length and the angles between all of the adjacent sides are equal. The area of a regular polygon can be computed using the following formula, where s is the length of a side and n is the number of sides:\n",
    "\n",
    "Exercise 23: Area of a Regular Polygon 11\n",
    "\n",
    "area = n × s2/4 × tan (π/n)\n",
    "\n",
    "Write a program that reads s and n from the user and then displays the area of a regular polygon constructed from these values."
   ]
  },
  {
   "cell_type": "code",
   "execution_count": 4,
   "metadata": {},
   "outputs": [
    {
     "name": "stdout",
     "output_type": "stream",
     "text": [
      "s 4\n",
      "n 3\n",
      "6.936699987862598\n"
     ]
    }
   ],
   "source": [
    "import math\n",
    "s=int(input(\"s \"))\n",
    "n=int(input(\"n \"))\n",
    "area = (n * s*s)/(4 * math.tan(3.14/n))\n",
    "print(area)"
   ]
  },
  {
   "cell_type": "markdown",
   "metadata": {},
   "source": [
    "Exercise 24: Units of Time\n",
    "\n",
    "Create a program that reads a duration from the user as a number of days, hours,minutes, and seconds. Compute and display the total number of seconds represented by this duration."
   ]
  },
  {
   "cell_type": "code",
   "execution_count": 13,
   "metadata": {},
   "outputs": [
    {
     "name": "stdout",
     "output_type": "stream",
     "text": [
      "number of Days: 4\n",
      "number of Hours: 24\n",
      "number of Minutes: 60\n",
      "number of Seconds: 3600\n",
      "Total number of seconds:  439200\n"
     ]
    }
   ],
   "source": [
    "s_m=60\n",
    "s_h = 3600\n",
    "s_d = 86400\n",
    "\n",
    "days    = int(input(\"number of Days: \"))\n",
    "hours   = int(input(\"number of Hours: \"))\n",
    "minu = int(input(\"number of Minutes: \"))\n",
    "sec = int(input(\"number of Seconds: \"))\n",
    "total_sec = days * s_d\n",
    "total_sec = total_sec + ( hours * s_h)\n",
    "total_sec = total_sec + ( minu *s_m)\n",
    "total_sec = total_sec + sec\n",
    "print(\"Total number of seconds: \",\"%d\"%(total_sec))"
   ]
  },
  {
   "cell_type": "markdown",
   "metadata": {},
   "source": [
    "Exercise 25: Units of Time (Again)\n",
    "\n",
    "In this exercise you will reverse the process described in the previous exercise.Develop a program that begins by reading a number of seconds from the user.Then your program should display the equivalent amount of time in the form D:HH:MM:SS, where D, HH, MM, and SS represent days, hours, minutes and seconds respectively. The hours,minutes and seconds should all be formatted so that they occupy exactly two digits, with a leading 0 displayed if necessary."
   ]
  },
  {
   "cell_type": "code",
   "execution_count": 17,
   "metadata": {},
   "outputs": [
    {
     "name": "stdout",
     "output_type": "stream",
     "text": [
      "Enter number of seconds: 357456\n",
      "The duration is:  4:03:17:36\n"
     ]
    }
   ],
   "source": [
    "s_m = 60\n",
    "s_h = 3600\n",
    "s_d = 86400\n",
    "sec = int(input(\"Enter number of seconds: \"))\n",
    "days = sec /s_d\n",
    "sec = sec % s_d\n",
    "hours = sec /s_h\n",
    "sec = sec % s_h\n",
    "minutes = sec / s_m\n",
    "sec = sec % s_m\n",
    "print(\"The duration is: \",\"%d:%02d:%02d:%02d\"%(days,hours,minutes,sec))"
   ]
  },
  {
   "cell_type": "code",
   "execution_count": null,
   "metadata": {},
   "outputs": [],
   "source": [
    "Exercise 26: Current Time\n",
    "\n",
    "Python includes a library of functions for working with time, including a function called asctime in the time module. It reads the current time from the com-\n",
    "puter’s internal clock and returns it in a human-readable format. Write a program that displays the current time and date. Your program will not require any input from\n",
    "the user."
   ]
  },
  {
   "cell_type": "code",
   "execution_count": 55,
   "metadata": {},
   "outputs": [
    {
     "name": "stdout",
     "output_type": "stream",
     "text": [
      "\n",
      "Day Mon Date Hr:Min:Sec Year\n",
      "  Thu Apr 30 14:08:40 2020\n",
      "\n",
      "Day Mon Date Hour:Min:Sec Year\n",
      "   Thu Apr 30 14:08:40 2020\n"
     ]
    }
   ],
   "source": [
    "import time \n",
    "obj = time.gmtime() \n",
    "time_str = time.asctime(obj) \n",
    "print(\"\\nDay Mon Date Hr:Min:Sec Year\") \n",
    "print(\"  {}\".format(time_str)) \n",
    "time_str = time.asctime(obj) \n",
    "print(\"\\nDay Mon Date Hour:Min:Sec Year\") \n",
    "print(\"   {}\".format(time_str)) \n"
   ]
  },
  {
   "cell_type": "code",
   "execution_count": null,
   "metadata": {},
   "outputs": [],
   "source": [
    "Exercise 27: Body Mass Index\n",
    "\n",
    "Write a program that computes the body mass index (BMI) of an individual. Your program should begin by reading a height and weight from the user. Then it should\n",
    "\n",
    "This use one of the following two formulas to compute the BMI before displaying it. If you read the height in inches and the weight in pounds then body mass index is\n",
    "computed using the following formula:\n",
    "BMI = (weight× 703)/(height × height)\n",
    "\n",
    "If you read the height in meters and the weight in kilograms then body mass index is computed using this slightly simpler formula:\n",
    "BMI = weight/(height × height)"
   ]
  },
  {
   "cell_type": "code",
   "execution_count": 80,
   "metadata": {},
   "outputs": [
    {
     "name": "stdout",
     "output_type": "stream",
     "text": [
      "1.height in inches and weight in pounds\n",
      "2.height in meters and the weight in kilograms\n",
      "1\n",
      "weight 5\n",
      "weight 4\n",
      "219.6875\n"
     ]
    }
   ],
   "source": [
    "a=int(input(\"1.height in inches and weight in pounds\\n2.height in meters and the weight in kilograms\\n\"))\n",
    "weight=float(input(\"weight \"))\n",
    "height=float(input(\"weight \"))\n",
    "if(a==1):\n",
    "    BMI = (weight* 703)/(height * height)\n",
    "    print(BMI)\n",
    "elif(a==2):\n",
    "    BMI = weight/(height * height)\n",
    "    print(BMI)\n",
    "else:\n",
    "    print(\"Invalid\")"
   ]
  },
  {
   "cell_type": "markdown",
   "metadata": {},
   "source": [
    "Exercise 28:Wind Chill\n",
    "\n",
    "When the wind blows in cold weather, the air feels even colder than it actually is because the movement of the air increases the rate of cooling for warm objects, like people. This effect is known as wind chill.\n",
    "\n",
    "In 2001, Canada, the United Kingdom and the United States adopted the following formula for computing the wind chill index. Within the formula Ta is the air temperature in degrees Celsius and V is the wind speed in kilometers per hour.\n",
    "A similar formula with different constant values can be used with temperatures in degrees Fahrenheit and wind speeds in miles per hour.\n",
    "WCI = 13.12 + 0.6215Ta − 11.37V0.16 + 0.3965TaV0.16\n",
    "Write a program that begins by reading the air temperature and wind speed from the user. Once these values have been read your program should display the wind chill index rounded to the closest integer.The wind chill index is only considered valid for temperatures less than or equal to 10 degrees Celsius and wind speeds exceeding 4.8 kilometers per hour."
   ]
  },
  {
   "cell_type": "markdown",
   "metadata": {},
   "source": [
    "Exercise 29: Celsius to Fahrenheit and Kelvin\n",
    "\n",
    "Write a program that begins by reading a temperature from the user in degrees Celsius. Then your program should display the equivalent temperature in degrees Fahrenheit and degrees Kelvin. The calculations needed to convert between different units of temperature can be found on the internet."
   ]
  },
  {
   "cell_type": "code",
   "execution_count": 86,
   "metadata": {},
   "outputs": [
    {
     "name": "stdout",
     "output_type": "stream",
     "text": [
      "Celsius 45\n",
      "Celsius to Farenheit 113.0\n",
      "Celsius to Kelvin 318\n"
     ]
    }
   ],
   "source": [
    "C=int(input(\"Celsius \"))\n",
    "F = ((9/5) * (C) )+ 32\n",
    "K = C + 273\n",
    "print(\"Celsius to Farenheit {}\".format(F))\n",
    "print(\"Celsius to Kelvin {}\".format(K))"
   ]
  },
  {
   "cell_type": "markdown",
   "metadata": {},
   "source": [
    "Exercise 30: Units of Pressure\n",
    "\n",
    "In this exercise you will create a program that reads a pressure from the user in kilo-pascals. Once the pressure has been read your program should report the equivalent pressure in pounds per square inch, millimeters of mercury and atmospheres. Use your research skills to determine the conversion factors between these units."
   ]
  },
  {
   "cell_type": "code",
   "execution_count": 89,
   "metadata": {},
   "outputs": [
    {
     "name": "stdout",
     "output_type": "stream",
     "text": [
      "Pressure in in kilopascals: 354\n",
      "The pressure in pounds per square inch: 51.34 psi\n",
      "The pressure in millimeter of mercury: 2655.22 mmHg\n",
      "Atmosphere pressure: 3.49 atm.\n"
     ]
    }
   ],
   "source": [
    "kpa = float(input(\"Pressure in in kilopascals: \"))\n",
    "psi = kpa / 6.89475729\n",
    "mhg = kpa * 760 / 101.325\n",
    "atm = kpa / 101.325\n",
    "print(\"The pressure in pounds per square inch: %.2f psi\"  % (psi))\n",
    "print(\"The pressure in millimeter of mercury: %.2f mmHg\" % (mhg))\n",
    "print(\"Atmosphere pressure: %.2f atm.\" % (atm))"
   ]
  },
  {
   "cell_type": "markdown",
   "metadata": {},
   "source": [
    "Exercise 31: Sum of the Digits in an Integer\n",
    "\n",
    "Develop a program that reads a four-digit integer from the user and displays the sum of the digits in the number. For example, if the user enters 3141 then your program should display 3+1+4+1=9.\n"
   ]
  },
  {
   "cell_type": "code",
   "execution_count": 5,
   "metadata": {},
   "outputs": [
    {
     "name": "stdout",
     "output_type": "stream",
     "text": [
      "Enter an intger 434\n",
      "11\n"
     ]
    }
   ],
   "source": [
    "def getSum(n):\n",
    "    sum = 0\n",
    "    while (n != 0): \n",
    "        sum = sum + int(n % 10)\n",
    "        n = int(n/10) \n",
    "    return sum\n",
    "n = int(input(\"Enter an intger \"))\n",
    "print(getSum(n)) \n"
   ]
  },
  {
   "cell_type": "markdown",
   "metadata": {},
   "source": [
    "Exercise 32: Sort 3 Integers\n",
    "\n",
    "Create a program that reads three integers from the user and displays them in sorted\n",
    "order (from smallest to largest). Use the min and max functions to find the smallest\n",
    "and largest values. The middle value can be found by computing the sum of all three\n",
    "values, and then subtracting the minimum value and the maximum value."
   ]
  },
  {
   "cell_type": "code",
   "execution_count": 71,
   "metadata": {},
   "outputs": [
    {
     "name": "stdout",
     "output_type": "stream",
     "text": [
      "first number: 4\n",
      "second number: 6\n",
      "third number: 7\n",
      "Numbers in sorted order:  4 6 7\n"
     ]
    }
   ],
   "source": [
    "x = int(input(\"first number: \"))\n",
    "y = int(input(\"second number: \"))\n",
    "z = int(input(\"third number: \"))\n",
    "\n",
    "a1 = min(x, y, z)\n",
    "a3 = max(x, y, z)\n",
    "a2 = (x + y + z) - a1 - a3\n",
    "print(\"Numbers in sorted order: \", a1, a2, a3)"
   ]
  },
  {
   "cell_type": "markdown",
   "metadata": {},
   "source": [
    "Exercise 33: Day Old Bread\n",
    "\n",
    "A bakery sells loaves of bread for $3.49 each. Day old bread is discounted by 60 percent. Write a program that begins by reading the number of loaves of day old bread being purchased from the user. Then your program should display the regular price for the bread, the discount because it is a day old, and the total price. All of the\n",
    "values should be displayed using two decimal places, and the decimal points in all of the numbers should be aligned when reasonable values are entered by the user."
   ]
  },
  {
   "cell_type": "code",
   "execution_count": 75,
   "metadata": {},
   "outputs": [
    {
     "name": "stdout",
     "output_type": "stream",
     "text": [
      "loaves of bread - $3.49 \n",
      "Discount - 60%\n",
      "loaves of bread 4\n",
      "loaves of bread - $3.49 \n",
      "Discount - 60%\n",
      "$0.24 is to be paid\n"
     ]
    }
   ],
   "source": [
    "print(\"loaves of bread - $3.49 \\nDiscount - 60%\")\n",
    "a=float(input(\"loaves of bread \"))\n",
    "total_price=0.06*a\n",
    "print(\"loaves of bread - $3.49 \\nDiscount - 60%\\n${} is to be paid\".format(total_price))\n",
    "\n",
    "\n"
   ]
  },
  {
   "cell_type": "code",
   "execution_count": null,
   "metadata": {},
   "outputs": [],
   "source": []
  },
  {
   "cell_type": "code",
   "execution_count": null,
   "metadata": {},
   "outputs": [],
   "source": []
  },
  {
   "cell_type": "code",
   "execution_count": null,
   "metadata": {},
   "outputs": [],
   "source": []
  }
 ],
 "metadata": {
  "kernelspec": {
   "display_name": "Python 3",
   "language": "python",
   "name": "python3"
  },
  "language_info": {
   "codemirror_mode": {
    "name": "ipython",
    "version": 3
   },
   "file_extension": ".py",
   "mimetype": "text/x-python",
   "name": "python",
   "nbconvert_exporter": "python",
   "pygments_lexer": "ipython3",
   "version": "3.7.3"
  }
 },
 "nbformat": 4,
 "nbformat_minor": 2
}
